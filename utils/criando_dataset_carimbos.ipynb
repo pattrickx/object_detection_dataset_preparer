{
 "cells": [
  {
   "cell_type": "code",
   "execution_count": null,
   "metadata": {},
   "outputs": [],
   "source": [
    "# !yes | pip3 install -r torch==1.10.0\n",
    "# !yes | pip3 install opencv-python==4.5.3.56\n",
    "# !yes | pip3 install tqdm==4.62.3\n",
    "# !yes | pip3 install torchvision==0.11.1\n",
    "#!yes | pip3 install seaborn==0.11.2"
   ]
  },
  {
   "cell_type": "code",
   "execution_count": 75,
   "metadata": {},
   "outputs": [],
   "source": [
    "import torch\n",
    "from PIL import Image\n",
    "import glob\n",
    "import os\n",
    "import pandas as pd\n",
    "from training_xml_generator import Traning_xml_generator"
   ]
  },
  {
   "cell_type": "code",
   "execution_count": 18,
   "metadata": {},
   "outputs": [
    {
     "name": "stderr",
     "output_type": "stream",
     "text": [
      "Downloading: \"https://github.com/ultralytics/yolov5/archive/master.zip\" to /home/patrick/.cache/torch/hub/master.zip\n"
     ]
    },
    {
     "name": "stdout",
     "output_type": "stream",
     "text": [
      "\u001b[31m\u001b[1mrequirements:\u001b[0m matplotlib>=3.2.2 not found and is required by YOLOv5, attempting auto-update...\n",
      "Requirement already satisfied: matplotlib>=3.2.2 in /home/patrick/.local/lib/python3.8/site-packages (3.4.3)\n",
      "Requirement already satisfied: pillow>=6.2.0 in /home/patrick/.local/lib/python3.8/site-packages (from matplotlib>=3.2.2) (8.4.0)\n",
      "Requirement already satisfied: pyparsing>=2.2.1 in /usr/lib/python3/dist-packages (from matplotlib>=3.2.2) (2.4.6)\n",
      "Requirement already satisfied: python-dateutil>=2.7 in /usr/lib/python3/dist-packages (from matplotlib>=3.2.2) (2.7.3)\n",
      "Requirement already satisfied: numpy>=1.16 in /home/patrick/.local/lib/python3.8/site-packages (from matplotlib>=3.2.2) (1.21.3)\n",
      "Requirement already satisfied: kiwisolver>=1.0.1 in /usr/lib/python3/dist-packages (from matplotlib>=3.2.2) (1.0.1)\n",
      "Requirement already satisfied: cycler>=0.10 in /usr/lib/python3/dist-packages (from matplotlib>=3.2.2) (0.10.0)\n",
      "\n",
      "\u001b[31m\u001b[1mrequirements:\u001b[0m numpy>=1.18.5 not found and is required by YOLOv5, attempting auto-update...\n",
      "Requirement already satisfied: numpy>=1.18.5 in /home/patrick/.local/lib/python3.8/site-packages (1.21.3)\n",
      "\n",
      "\u001b[31m\u001b[1mrequirements:\u001b[0m Pillow>=7.1.2 not found and is required by YOLOv5, attempting auto-update...\n",
      "Requirement already satisfied: Pillow>=7.1.2 in /home/patrick/.local/lib/python3.8/site-packages (8.4.0)\n",
      "\n",
      "\u001b[31m\u001b[1mrequirements:\u001b[0m requests>=2.23.0 not found and is required by YOLOv5, attempting auto-update...\n"
     ]
    },
    {
     "name": "stderr",
     "output_type": "stream",
     "text": [
      "YOLOv5 🚀 2021-11-3 torch 1.10.0+cu102 CUDA:0 (NVIDIA GeForce GTX 1650, 3912MiB)\n",
      "\n",
      "Fusing layers... \n",
      "Model Summary: 232 layers, 7249215 parameters, 0 gradients\n",
      "Adding AutoShape... \n"
     ]
    },
    {
     "name": "stdout",
     "output_type": "stream",
     "text": [
      "Requirement already satisfied: requests>=2.23.0 in /home/patrick/.local/lib/python3.8/site-packages (2.26.0)\n",
      "Requirement already satisfied: certifi>=2017.4.17 in /usr/lib/python3/dist-packages (from requests>=2.23.0) (2019.11.28)\n",
      "Requirement already satisfied: idna<4,>=2.5; python_version >= \"3\" in /usr/lib/python3/dist-packages (from requests>=2.23.0) (2.8)\n",
      "Requirement already satisfied: charset-normalizer~=2.0.0; python_version >= \"3\" in /home/patrick/.local/lib/python3.8/site-packages (from requests>=2.23.0) (2.0.7)\n",
      "Requirement already satisfied: urllib3<1.27,>=1.21.1 in /usr/lib/python3/dist-packages (from requests>=2.23.0) (1.25.8)\n",
      "\n",
      "\u001b[31m\u001b[1mrequirements:\u001b[0m 4 packages updated per /home/patrick/.cache/torch/hub/ultralytics_yolov5_master/requirements.txt\n",
      "\u001b[31m\u001b[1mrequirements:\u001b[0m ⚠️ \u001b[1mRestart runtime or rerun command for updates to take effect\u001b[0m\n",
      "\n"
     ]
    }
   ],
   "source": [
    "\n",
    "pre_trained_model_path = \"./yolov5_modelo_carimbo_assinatura.pt\"\n",
    "imgsz = 1000\n",
    "device = torch.device(\"cuda\" if torch.cuda.is_available() else \"cpu\")\n",
    "model = torch.hub.load('ultralytics/yolov5', 'custom', path=pre_trained_model_path,force_reload=True).to(device)"
   ]
  },
  {
   "cell_type": "code",
   "execution_count": null,
   "metadata": {},
   "outputs": [],
   "source": [
    "convert_dict = {\n",
    "                'xmin':int,'xmax':int,\n",
    "                'ymin':int,'ymax':int,\n",
    "                'width':int,'height':int\n",
    "            }"
   ]
  },
  {
   "cell_type": "code",
   "execution_count": 76,
   "metadata": {},
   "outputs": [],
   "source": [
    "imgs_path = glob.glob(\"guias_sistema/guias/*.jpg\")\n",
    "df_all = pd.DataFrame(columns = ['filename','width','height','xmin','ymin','xmax','ymax','score','class_number','class'])\n",
    "for path in imgs_path:\n",
    "    img = Image.open(path)\n",
    "    results = model(img, size=imgsz)  # includes NMS\n",
    "\n",
    "    img_boxes = results.pandas().xyxy[0]\n",
    "    img_boxes.columns = ['xmin','ymin','xmax','ymax','score','class_number','class']\n",
    "    img_boxes['filename'] = os.path.basename(path)\n",
    "    img_boxes['width'] = img_boxes['xmax'] - img_boxes['xmin']\n",
    "    img_boxes['height'] = img_boxes['ymax'] - img_boxes['ymin']\n",
    "\n",
    "    w,h = img.size\n",
    "    Traning_xml_generator(path,img_boxes.astype(convert_dict),w,h,1,'guias_sistema/out/').generator()\n",
    "    df_all = pd.concat([df_all, img_boxes])\n",
    "    "
   ]
  },
  {
   "cell_type": "code",
   "execution_count": 72,
   "metadata": {},
   "outputs": [],
   "source": [
    "\n",
    "df_all = df_all.astype(convert_dict)"
   ]
  },
  {
   "cell_type": "code",
   "execution_count": 73,
   "metadata": {},
   "outputs": [
    {
     "data": {
      "text/html": [
       "<div>\n",
       "<style scoped>\n",
       "    .dataframe tbody tr th:only-of-type {\n",
       "        vertical-align: middle;\n",
       "    }\n",
       "\n",
       "    .dataframe tbody tr th {\n",
       "        vertical-align: top;\n",
       "    }\n",
       "\n",
       "    .dataframe thead th {\n",
       "        text-align: right;\n",
       "    }\n",
       "</style>\n",
       "<table border=\"1\" class=\"dataframe\">\n",
       "  <thead>\n",
       "    <tr style=\"text-align: right;\">\n",
       "      <th></th>\n",
       "      <th>filename</th>\n",
       "      <th>width</th>\n",
       "      <th>height</th>\n",
       "      <th>xmin</th>\n",
       "      <th>ymin</th>\n",
       "      <th>xmax</th>\n",
       "      <th>ymax</th>\n",
       "      <th>class</th>\n",
       "    </tr>\n",
       "  </thead>\n",
       "  <tbody>\n",
       "    <tr>\n",
       "      <th>0</th>\n",
       "      <td>1_0678.jpg</td>\n",
       "      <td>451</td>\n",
       "      <td>588</td>\n",
       "      <td>2951</td>\n",
       "      <td>5079</td>\n",
       "      <td>3402</td>\n",
       "      <td>5668</td>\n",
       "      <td>carimbo_med</td>\n",
       "    </tr>\n",
       "    <tr>\n",
       "      <th>1</th>\n",
       "      <td>1_0678.jpg</td>\n",
       "      <td>776</td>\n",
       "      <td>565</td>\n",
       "      <td>2745</td>\n",
       "      <td>5185</td>\n",
       "      <td>3522</td>\n",
       "      <td>5750</td>\n",
       "      <td>assinatura_med</td>\n",
       "    </tr>\n",
       "  </tbody>\n",
       "</table>\n",
       "</div>"
      ],
      "text/plain": [
       "     filename  width  height  xmin  ymin  xmax  ymax           class\n",
       "0  1_0678.jpg    451     588  2951  5079  3402  5668     carimbo_med\n",
       "1  1_0678.jpg    776     565  2745  5185  3522  5750  assinatura_med"
      ]
     },
     "execution_count": 73,
     "metadata": {},
     "output_type": "execute_result"
    }
   ],
   "source": [
    "df_all.drop(columns=['score','class_number'],inplace=True)\n",
    "df_all.head(10) "
   ]
  },
  {
   "cell_type": "code",
   "execution_count": 74,
   "metadata": {},
   "outputs": [],
   "source": [
    "df_all.to_csv('label_map.csv', index=False)"
   ]
  },
  {
   "cell_type": "code",
   "execution_count": null,
   "metadata": {},
   "outputs": [],
   "source": [
    "\n",
    "gerador  = Traning_xml_generator(path,boxes_array,w,h,1,'guias_sistema/out/')"
   ]
  },
  {
   "cell_type": "markdown",
   "metadata": {},
   "source": [
    "## Exportando para yolov5"
   ]
  },
  {
   "cell_type": "code",
   "execution_count": 53,
   "metadata": {},
   "outputs": [],
   "source": [
    "imgs_path = glob.glob(\"guias_sistema/guias/*.jpg\")\n",
    "for path in imgs_path:\n",
    "    img = Image.open(path)\n",
    "    results = model(img, size=imgsz)  # includes NMS\n",
    "\n",
    "    img_boxes = results.pandas().xyxy[0]\n",
    "    img_boxes.columns = ['x1','y1','x2','y2','score','class_number','class']\n",
    "    # print(img_boxes)\n",
    "\n",
    "\n",
    "    h,w = img.size\n",
    "    info_dict = {'bboxes': [],\n",
    "                'filename': os.path.basename(path), \n",
    "                'image_size': (w, h , 3)}\n",
    "    \n",
    "    for n,r in img_boxes.iterrows():\n",
    "    \n",
    "        info_dict['bboxes'].append({'class_n': r.class_number,\n",
    "                                'xmin': r.x1,\n",
    "                                'ymin': r.y1,\n",
    "                                'xmax': r.x2, \n",
    "                                'ymax': r.y2\n",
    "                                })\n",
    "\n",
    "    # print(info_dict)\n",
    "    convert_to_yolov5(info_dict)"
   ]
  },
  {
   "cell_type": "code",
   "execution_count": 52,
   "metadata": {},
   "outputs": [],
   "source": [
    "def convert_to_yolov5(info_dict):\n",
    "    print_buffer = []\n",
    "    \n",
    "    # For each bounding box\n",
    "    for b in info_dict[\"bboxes\"]:\n",
    "        \n",
    "        # Transform the bbox co-ordinates as per the format required by YOLO v5\n",
    "        b_center_x = (b[\"xmin\"] + b[\"xmax\"]) / 2 \n",
    "        b_center_y = (b[\"ymin\"] + b[\"ymax\"]) / 2\n",
    "        b_width    = (b[\"xmax\"] - b[\"xmin\"])\n",
    "        b_height   = (b[\"ymax\"] - b[\"ymin\"])\n",
    "        \n",
    "        # Normalise the co-ordinates by the dimensions of the image\n",
    "        image_w, image_h, image_c = info_dict[\"image_size\"]  \n",
    "        b_center_x /= image_w \n",
    "        b_center_y /= image_h \n",
    "        b_width    /= image_w \n",
    "        b_height   /= image_h \n",
    "        \n",
    "        #Write the bbox details to the file \n",
    "        print_buffer.append(\"{} {:.3f} {:.3f} {:.3f} {:.3f}\".format(b[\"class_n\"], b_center_x, b_center_y, b_width, b_height))\n",
    "        \n",
    "    # Name of the file which we have to save \n",
    "    save_file_name = os.path.join(\"guias_sistema/guias\", info_dict[\"filename\"].replace(\"jpg\", \"txt\"))\n",
    "    \n",
    "    # Save the annotation to disk\n",
    "    print(\"\\n\".join(print_buffer), file= open(save_file_name, \"w\"))"
   ]
  }
 ],
 "metadata": {
  "interpreter": {
   "hash": "916dbcbb3f70747c44a77c7bcd40155683ae19c65e1c03b4aa3499c5328201f1"
  },
  "kernelspec": {
   "display_name": "Python 3.8.10 64-bit",
   "name": "python3"
  },
  "language_info": {
   "codemirror_mode": {
    "name": "ipython",
    "version": 3
   },
   "file_extension": ".py",
   "mimetype": "text/x-python",
   "name": "python",
   "nbconvert_exporter": "python",
   "pygments_lexer": "ipython3",
   "version": "3.8.10"
  },
  "orig_nbformat": 4
 },
 "nbformat": 4,
 "nbformat_minor": 2
}
